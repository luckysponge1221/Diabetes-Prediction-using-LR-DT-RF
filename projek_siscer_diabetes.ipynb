{
  "cells": [
    {
      "cell_type": "markdown",
      "metadata": {
        "id": "view-in-github",
        "colab_type": "text"
      },
      "source": [
        "<a href=\"https://colab.research.google.com/github/luckysponge1221/Diabetes-Prediction-using-LR-DT-RF/blob/main/projek_siscer_diabetes.ipynb\" target=\"_parent\"><img src=\"https://colab.research.google.com/assets/colab-badge.svg\" alt=\"Open In Colab\"/></a>"
      ]
    },
    {
      "cell_type": "code",
      "source": [
        "from google.colab import drive\n",
        "drive.mount('/content/drive')"
      ],
      "metadata": {
        "colab": {
          "base_uri": "https://localhost:8080/"
        },
        "id": "gBJ6T0zumjZ8",
        "outputId": "3ba83864-1094-4df5-b49f-97a57d59b4bf"
      },
      "id": "gBJ6T0zumjZ8",
      "execution_count": null,
      "outputs": [
        {
          "output_type": "stream",
          "name": "stdout",
          "text": [
            "Drive already mounted at /content/drive; to attempt to forcibly remount, call drive.mount(\"/content/drive\", force_remount=True).\n"
          ]
        }
      ]
    },
    {
      "cell_type": "code",
      "source": [
        "from google.colab import files\n",
        "uploaded = files.upload()"
      ],
      "metadata": {
        "colab": {
          "base_uri": "https://localhost:8080/",
          "height": 73
        },
        "id": "GPVgy0_6m02L",
        "outputId": "bf48a0ca-050d-452c-c4d8-a4b4ce6fad8e"
      },
      "id": "GPVgy0_6m02L",
      "execution_count": null,
      "outputs": [
        {
          "output_type": "display_data",
          "data": {
            "text/plain": [
              "<IPython.core.display.HTML object>"
            ],
            "text/html": [
              "\n",
              "     <input type=\"file\" id=\"files-9bed5b63-a25f-4150-8416-7928b0544a44\" name=\"files[]\" multiple disabled\n",
              "        style=\"border:none\" />\n",
              "     <output id=\"result-9bed5b63-a25f-4150-8416-7928b0544a44\">\n",
              "      Upload widget is only available when the cell has been executed in the\n",
              "      current browser session. Please rerun this cell to enable.\n",
              "      </output>\n",
              "      <script>// Copyright 2017 Google LLC\n",
              "//\n",
              "// Licensed under the Apache License, Version 2.0 (the \"License\");\n",
              "// you may not use this file except in compliance with the License.\n",
              "// You may obtain a copy of the License at\n",
              "//\n",
              "//      http://www.apache.org/licenses/LICENSE-2.0\n",
              "//\n",
              "// Unless required by applicable law or agreed to in writing, software\n",
              "// distributed under the License is distributed on an \"AS IS\" BASIS,\n",
              "// WITHOUT WARRANTIES OR CONDITIONS OF ANY KIND, either express or implied.\n",
              "// See the License for the specific language governing permissions and\n",
              "// limitations under the License.\n",
              "\n",
              "/**\n",
              " * @fileoverview Helpers for google.colab Python module.\n",
              " */\n",
              "(function(scope) {\n",
              "function span(text, styleAttributes = {}) {\n",
              "  const element = document.createElement('span');\n",
              "  element.textContent = text;\n",
              "  for (const key of Object.keys(styleAttributes)) {\n",
              "    element.style[key] = styleAttributes[key];\n",
              "  }\n",
              "  return element;\n",
              "}\n",
              "\n",
              "// Max number of bytes which will be uploaded at a time.\n",
              "const MAX_PAYLOAD_SIZE = 100 * 1024;\n",
              "\n",
              "function _uploadFiles(inputId, outputId) {\n",
              "  const steps = uploadFilesStep(inputId, outputId);\n",
              "  const outputElement = document.getElementById(outputId);\n",
              "  // Cache steps on the outputElement to make it available for the next call\n",
              "  // to uploadFilesContinue from Python.\n",
              "  outputElement.steps = steps;\n",
              "\n",
              "  return _uploadFilesContinue(outputId);\n",
              "}\n",
              "\n",
              "// This is roughly an async generator (not supported in the browser yet),\n",
              "// where there are multiple asynchronous steps and the Python side is going\n",
              "// to poll for completion of each step.\n",
              "// This uses a Promise to block the python side on completion of each step,\n",
              "// then passes the result of the previous step as the input to the next step.\n",
              "function _uploadFilesContinue(outputId) {\n",
              "  const outputElement = document.getElementById(outputId);\n",
              "  const steps = outputElement.steps;\n",
              "\n",
              "  const next = steps.next(outputElement.lastPromiseValue);\n",
              "  return Promise.resolve(next.value.promise).then((value) => {\n",
              "    // Cache the last promise value to make it available to the next\n",
              "    // step of the generator.\n",
              "    outputElement.lastPromiseValue = value;\n",
              "    return next.value.response;\n",
              "  });\n",
              "}\n",
              "\n",
              "/**\n",
              " * Generator function which is called between each async step of the upload\n",
              " * process.\n",
              " * @param {string} inputId Element ID of the input file picker element.\n",
              " * @param {string} outputId Element ID of the output display.\n",
              " * @return {!Iterable<!Object>} Iterable of next steps.\n",
              " */\n",
              "function* uploadFilesStep(inputId, outputId) {\n",
              "  const inputElement = document.getElementById(inputId);\n",
              "  inputElement.disabled = false;\n",
              "\n",
              "  const outputElement = document.getElementById(outputId);\n",
              "  outputElement.innerHTML = '';\n",
              "\n",
              "  const pickedPromise = new Promise((resolve) => {\n",
              "    inputElement.addEventListener('change', (e) => {\n",
              "      resolve(e.target.files);\n",
              "    });\n",
              "  });\n",
              "\n",
              "  const cancel = document.createElement('button');\n",
              "  inputElement.parentElement.appendChild(cancel);\n",
              "  cancel.textContent = 'Cancel upload';\n",
              "  const cancelPromise = new Promise((resolve) => {\n",
              "    cancel.onclick = () => {\n",
              "      resolve(null);\n",
              "    };\n",
              "  });\n",
              "\n",
              "  // Wait for the user to pick the files.\n",
              "  const files = yield {\n",
              "    promise: Promise.race([pickedPromise, cancelPromise]),\n",
              "    response: {\n",
              "      action: 'starting',\n",
              "    }\n",
              "  };\n",
              "\n",
              "  cancel.remove();\n",
              "\n",
              "  // Disable the input element since further picks are not allowed.\n",
              "  inputElement.disabled = true;\n",
              "\n",
              "  if (!files) {\n",
              "    return {\n",
              "      response: {\n",
              "        action: 'complete',\n",
              "      }\n",
              "    };\n",
              "  }\n",
              "\n",
              "  for (const file of files) {\n",
              "    const li = document.createElement('li');\n",
              "    li.append(span(file.name, {fontWeight: 'bold'}));\n",
              "    li.append(span(\n",
              "        `(${file.type || 'n/a'}) - ${file.size} bytes, ` +\n",
              "        `last modified: ${\n",
              "            file.lastModifiedDate ? file.lastModifiedDate.toLocaleDateString() :\n",
              "                                    'n/a'} - `));\n",
              "    const percent = span('0% done');\n",
              "    li.appendChild(percent);\n",
              "\n",
              "    outputElement.appendChild(li);\n",
              "\n",
              "    const fileDataPromise = new Promise((resolve) => {\n",
              "      const reader = new FileReader();\n",
              "      reader.onload = (e) => {\n",
              "        resolve(e.target.result);\n",
              "      };\n",
              "      reader.readAsArrayBuffer(file);\n",
              "    });\n",
              "    // Wait for the data to be ready.\n",
              "    let fileData = yield {\n",
              "      promise: fileDataPromise,\n",
              "      response: {\n",
              "        action: 'continue',\n",
              "      }\n",
              "    };\n",
              "\n",
              "    // Use a chunked sending to avoid message size limits. See b/62115660.\n",
              "    let position = 0;\n",
              "    do {\n",
              "      const length = Math.min(fileData.byteLength - position, MAX_PAYLOAD_SIZE);\n",
              "      const chunk = new Uint8Array(fileData, position, length);\n",
              "      position += length;\n",
              "\n",
              "      const base64 = btoa(String.fromCharCode.apply(null, chunk));\n",
              "      yield {\n",
              "        response: {\n",
              "          action: 'append',\n",
              "          file: file.name,\n",
              "          data: base64,\n",
              "        },\n",
              "      };\n",
              "\n",
              "      let percentDone = fileData.byteLength === 0 ?\n",
              "          100 :\n",
              "          Math.round((position / fileData.byteLength) * 100);\n",
              "      percent.textContent = `${percentDone}% done`;\n",
              "\n",
              "    } while (position < fileData.byteLength);\n",
              "  }\n",
              "\n",
              "  // All done.\n",
              "  yield {\n",
              "    response: {\n",
              "      action: 'complete',\n",
              "    }\n",
              "  };\n",
              "}\n",
              "\n",
              "scope.google = scope.google || {};\n",
              "scope.google.colab = scope.google.colab || {};\n",
              "scope.google.colab._files = {\n",
              "  _uploadFiles,\n",
              "  _uploadFilesContinue,\n",
              "};\n",
              "})(self);\n",
              "</script> "
            ]
          },
          "metadata": {}
        },
        {
          "output_type": "stream",
          "name": "stdout",
          "text": [
            "Saving diabetes.csv.xls to diabetes.csv.xls\n"
          ]
        }
      ]
    },
    {
      "cell_type": "code",
      "execution_count": null,
      "id": "e848af1d",
      "metadata": {
        "colab": {
          "base_uri": "https://localhost:8080/",
          "height": 206
        },
        "id": "e848af1d",
        "outputId": "71383221-7b13-4c4c-af64-b0034558ffed"
      },
      "outputs": [
        {
          "output_type": "execute_result",
          "data": {
            "text/plain": [
              "   Pregnancies  Glucose  BloodPressure  SkinThickness  Insulin   BMI  \\\n",
              "0            6      148             72             35        0  33.6   \n",
              "1            1       85             66             29        0  26.6   \n",
              "2            8      183             64              0        0  23.3   \n",
              "3            1       89             66             23       94  28.1   \n",
              "4            0      137             40             35      168  43.1   \n",
              "\n",
              "   DiabetesPedigreeFunction  Age  Outcome  \n",
              "0                     0.627   50        1  \n",
              "1                     0.351   31        0  \n",
              "2                     0.672   32        1  \n",
              "3                     0.167   21        0  \n",
              "4                     2.288   33        1  "
            ],
            "text/html": [
              "\n",
              "  <div id=\"df-53b7770f-a3ba-46db-be0b-969de6fcd400\">\n",
              "    <div class=\"colab-df-container\">\n",
              "      <div>\n",
              "<style scoped>\n",
              "    .dataframe tbody tr th:only-of-type {\n",
              "        vertical-align: middle;\n",
              "    }\n",
              "\n",
              "    .dataframe tbody tr th {\n",
              "        vertical-align: top;\n",
              "    }\n",
              "\n",
              "    .dataframe thead th {\n",
              "        text-align: right;\n",
              "    }\n",
              "</style>\n",
              "<table border=\"1\" class=\"dataframe\">\n",
              "  <thead>\n",
              "    <tr style=\"text-align: right;\">\n",
              "      <th></th>\n",
              "      <th>Pregnancies</th>\n",
              "      <th>Glucose</th>\n",
              "      <th>BloodPressure</th>\n",
              "      <th>SkinThickness</th>\n",
              "      <th>Insulin</th>\n",
              "      <th>BMI</th>\n",
              "      <th>DiabetesPedigreeFunction</th>\n",
              "      <th>Age</th>\n",
              "      <th>Outcome</th>\n",
              "    </tr>\n",
              "  </thead>\n",
              "  <tbody>\n",
              "    <tr>\n",
              "      <th>0</th>\n",
              "      <td>6</td>\n",
              "      <td>148</td>\n",
              "      <td>72</td>\n",
              "      <td>35</td>\n",
              "      <td>0</td>\n",
              "      <td>33.6</td>\n",
              "      <td>0.627</td>\n",
              "      <td>50</td>\n",
              "      <td>1</td>\n",
              "    </tr>\n",
              "    <tr>\n",
              "      <th>1</th>\n",
              "      <td>1</td>\n",
              "      <td>85</td>\n",
              "      <td>66</td>\n",
              "      <td>29</td>\n",
              "      <td>0</td>\n",
              "      <td>26.6</td>\n",
              "      <td>0.351</td>\n",
              "      <td>31</td>\n",
              "      <td>0</td>\n",
              "    </tr>\n",
              "    <tr>\n",
              "      <th>2</th>\n",
              "      <td>8</td>\n",
              "      <td>183</td>\n",
              "      <td>64</td>\n",
              "      <td>0</td>\n",
              "      <td>0</td>\n",
              "      <td>23.3</td>\n",
              "      <td>0.672</td>\n",
              "      <td>32</td>\n",
              "      <td>1</td>\n",
              "    </tr>\n",
              "    <tr>\n",
              "      <th>3</th>\n",
              "      <td>1</td>\n",
              "      <td>89</td>\n",
              "      <td>66</td>\n",
              "      <td>23</td>\n",
              "      <td>94</td>\n",
              "      <td>28.1</td>\n",
              "      <td>0.167</td>\n",
              "      <td>21</td>\n",
              "      <td>0</td>\n",
              "    </tr>\n",
              "    <tr>\n",
              "      <th>4</th>\n",
              "      <td>0</td>\n",
              "      <td>137</td>\n",
              "      <td>40</td>\n",
              "      <td>35</td>\n",
              "      <td>168</td>\n",
              "      <td>43.1</td>\n",
              "      <td>2.288</td>\n",
              "      <td>33</td>\n",
              "      <td>1</td>\n",
              "    </tr>\n",
              "  </tbody>\n",
              "</table>\n",
              "</div>\n",
              "      <button class=\"colab-df-convert\" onclick=\"convertToInteractive('df-53b7770f-a3ba-46db-be0b-969de6fcd400')\"\n",
              "              title=\"Convert this dataframe to an interactive table.\"\n",
              "              style=\"display:none;\">\n",
              "        \n",
              "  <svg xmlns=\"http://www.w3.org/2000/svg\" height=\"24px\"viewBox=\"0 0 24 24\"\n",
              "       width=\"24px\">\n",
              "    <path d=\"M0 0h24v24H0V0z\" fill=\"none\"/>\n",
              "    <path d=\"M18.56 5.44l.94 2.06.94-2.06 2.06-.94-2.06-.94-.94-2.06-.94 2.06-2.06.94zm-11 1L8.5 8.5l.94-2.06 2.06-.94-2.06-.94L8.5 2.5l-.94 2.06-2.06.94zm10 10l.94 2.06.94-2.06 2.06-.94-2.06-.94-.94-2.06-.94 2.06-2.06.94z\"/><path d=\"M17.41 7.96l-1.37-1.37c-.4-.4-.92-.59-1.43-.59-.52 0-1.04.2-1.43.59L10.3 9.45l-7.72 7.72c-.78.78-.78 2.05 0 2.83L4 21.41c.39.39.9.59 1.41.59.51 0 1.02-.2 1.41-.59l7.78-7.78 2.81-2.81c.8-.78.8-2.07 0-2.86zM5.41 20L4 18.59l7.72-7.72 1.47 1.35L5.41 20z\"/>\n",
              "  </svg>\n",
              "      </button>\n",
              "      \n",
              "  <style>\n",
              "    .colab-df-container {\n",
              "      display:flex;\n",
              "      flex-wrap:wrap;\n",
              "      gap: 12px;\n",
              "    }\n",
              "\n",
              "    .colab-df-convert {\n",
              "      background-color: #E8F0FE;\n",
              "      border: none;\n",
              "      border-radius: 50%;\n",
              "      cursor: pointer;\n",
              "      display: none;\n",
              "      fill: #1967D2;\n",
              "      height: 32px;\n",
              "      padding: 0 0 0 0;\n",
              "      width: 32px;\n",
              "    }\n",
              "\n",
              "    .colab-df-convert:hover {\n",
              "      background-color: #E2EBFA;\n",
              "      box-shadow: 0px 1px 2px rgba(60, 64, 67, 0.3), 0px 1px 3px 1px rgba(60, 64, 67, 0.15);\n",
              "      fill: #174EA6;\n",
              "    }\n",
              "\n",
              "    [theme=dark] .colab-df-convert {\n",
              "      background-color: #3B4455;\n",
              "      fill: #D2E3FC;\n",
              "    }\n",
              "\n",
              "    [theme=dark] .colab-df-convert:hover {\n",
              "      background-color: #434B5C;\n",
              "      box-shadow: 0px 1px 3px 1px rgba(0, 0, 0, 0.15);\n",
              "      filter: drop-shadow(0px 1px 2px rgba(0, 0, 0, 0.3));\n",
              "      fill: #FFFFFF;\n",
              "    }\n",
              "  </style>\n",
              "\n",
              "      <script>\n",
              "        const buttonEl =\n",
              "          document.querySelector('#df-53b7770f-a3ba-46db-be0b-969de6fcd400 button.colab-df-convert');\n",
              "        buttonEl.style.display =\n",
              "          google.colab.kernel.accessAllowed ? 'block' : 'none';\n",
              "\n",
              "        async function convertToInteractive(key) {\n",
              "          const element = document.querySelector('#df-53b7770f-a3ba-46db-be0b-969de6fcd400');\n",
              "          const dataTable =\n",
              "            await google.colab.kernel.invokeFunction('convertToInteractive',\n",
              "                                                     [key], {});\n",
              "          if (!dataTable) return;\n",
              "\n",
              "          const docLinkHtml = 'Like what you see? Visit the ' +\n",
              "            '<a target=\"_blank\" href=https://colab.research.google.com/notebooks/data_table.ipynb>data table notebook</a>'\n",
              "            + ' to learn more about interactive tables.';\n",
              "          element.innerHTML = '';\n",
              "          dataTable['output_type'] = 'display_data';\n",
              "          await google.colab.output.renderOutput(dataTable, element);\n",
              "          const docLink = document.createElement('div');\n",
              "          docLink.innerHTML = docLinkHtml;\n",
              "          element.appendChild(docLink);\n",
              "        }\n",
              "      </script>\n",
              "    </div>\n",
              "  </div>\n",
              "  "
            ]
          },
          "metadata": {},
          "execution_count": 6
        }
      ],
      "source": [
        "import pandas as pd\n",
        "df = pd.read_csv('diabetes.csv.xls')\n",
        "df.head()"
      ]
    },
    {
      "cell_type": "markdown",
      "source": [
        "\n",
        "\n",
        "```\n",
        "cek nilai berapa banyak nilai nol dengan mengkondisikan nilai nol adalah missing value\n",
        "alasan : nilai nol terlalu banyak maka dianggap anomali\n",
        "```\n",
        "\n"
      ],
      "metadata": {
        "id": "HjHiQKFyKgVx"
      },
      "id": "HjHiQKFyKgVx"
    },
    {
      "cell_type": "code",
      "source": [
        "import numpy as np\n",
        "cols = ['Glucose', 'BloodPressure', 'SkinThickness', 'Insulin', 'BMI']\n",
        "df[cols] = df[cols].replace({0 : np.nan})"
      ],
      "metadata": {
        "id": "qTbP6FFAn9Na"
      },
      "id": "qTbP6FFAn9Na",
      "execution_count": null,
      "outputs": []
    },
    {
      "cell_type": "markdown",
      "source": [
        "\n",
        "\n",
        "```\n",
        "NumOfNaN=jumlah missing value\n",
        "PctOfNaN= presentasinya missing value\n",
        "```\n",
        "\n"
      ],
      "metadata": {
        "id": "qIWXWtACKwnQ"
      },
      "id": "qIWXWtACKwnQ"
    },
    {
      "cell_type": "code",
      "execution_count": null,
      "id": "78f21a93",
      "metadata": {
        "colab": {
          "base_uri": "https://localhost:8080/",
          "height": 331
        },
        "id": "78f21a93",
        "outputId": "8ee3ca1c-6c12-48a8-88b3-19fecbb0dbdb"
      },
      "outputs": [
        {
          "output_type": "execute_result",
          "data": {
            "text/plain": [
              "                          NumOfNaN   PctOfNaN\n",
              "Insulin                        374  48.697917\n",
              "SkinThickness                  227  29.557292\n",
              "BloodPressure                   35   4.557292\n",
              "BMI                             11   1.432292\n",
              "Glucose                          5   0.651042\n",
              "Pregnancies                      0   0.000000\n",
              "DiabetesPedigreeFunction         0   0.000000\n",
              "Age                              0   0.000000\n",
              "Outcome                          0   0.000000"
            ],
            "text/html": [
              "\n",
              "  <div id=\"df-21f99657-6a40-4960-9b38-489ad61ee7b9\">\n",
              "    <div class=\"colab-df-container\">\n",
              "      <div>\n",
              "<style scoped>\n",
              "    .dataframe tbody tr th:only-of-type {\n",
              "        vertical-align: middle;\n",
              "    }\n",
              "\n",
              "    .dataframe tbody tr th {\n",
              "        vertical-align: top;\n",
              "    }\n",
              "\n",
              "    .dataframe thead th {\n",
              "        text-align: right;\n",
              "    }\n",
              "</style>\n",
              "<table border=\"1\" class=\"dataframe\">\n",
              "  <thead>\n",
              "    <tr style=\"text-align: right;\">\n",
              "      <th></th>\n",
              "      <th>NumOfNaN</th>\n",
              "      <th>PctOfNaN</th>\n",
              "    </tr>\n",
              "  </thead>\n",
              "  <tbody>\n",
              "    <tr>\n",
              "      <th>Insulin</th>\n",
              "      <td>374</td>\n",
              "      <td>48.697917</td>\n",
              "    </tr>\n",
              "    <tr>\n",
              "      <th>SkinThickness</th>\n",
              "      <td>227</td>\n",
              "      <td>29.557292</td>\n",
              "    </tr>\n",
              "    <tr>\n",
              "      <th>BloodPressure</th>\n",
              "      <td>35</td>\n",
              "      <td>4.557292</td>\n",
              "    </tr>\n",
              "    <tr>\n",
              "      <th>BMI</th>\n",
              "      <td>11</td>\n",
              "      <td>1.432292</td>\n",
              "    </tr>\n",
              "    <tr>\n",
              "      <th>Glucose</th>\n",
              "      <td>5</td>\n",
              "      <td>0.651042</td>\n",
              "    </tr>\n",
              "    <tr>\n",
              "      <th>Pregnancies</th>\n",
              "      <td>0</td>\n",
              "      <td>0.000000</td>\n",
              "    </tr>\n",
              "    <tr>\n",
              "      <th>DiabetesPedigreeFunction</th>\n",
              "      <td>0</td>\n",
              "      <td>0.000000</td>\n",
              "    </tr>\n",
              "    <tr>\n",
              "      <th>Age</th>\n",
              "      <td>0</td>\n",
              "      <td>0.000000</td>\n",
              "    </tr>\n",
              "    <tr>\n",
              "      <th>Outcome</th>\n",
              "      <td>0</td>\n",
              "      <td>0.000000</td>\n",
              "    </tr>\n",
              "  </tbody>\n",
              "</table>\n",
              "</div>\n",
              "      <button class=\"colab-df-convert\" onclick=\"convertToInteractive('df-21f99657-6a40-4960-9b38-489ad61ee7b9')\"\n",
              "              title=\"Convert this dataframe to an interactive table.\"\n",
              "              style=\"display:none;\">\n",
              "        \n",
              "  <svg xmlns=\"http://www.w3.org/2000/svg\" height=\"24px\"viewBox=\"0 0 24 24\"\n",
              "       width=\"24px\">\n",
              "    <path d=\"M0 0h24v24H0V0z\" fill=\"none\"/>\n",
              "    <path d=\"M18.56 5.44l.94 2.06.94-2.06 2.06-.94-2.06-.94-.94-2.06-.94 2.06-2.06.94zm-11 1L8.5 8.5l.94-2.06 2.06-.94-2.06-.94L8.5 2.5l-.94 2.06-2.06.94zm10 10l.94 2.06.94-2.06 2.06-.94-2.06-.94-.94-2.06-.94 2.06-2.06.94z\"/><path d=\"M17.41 7.96l-1.37-1.37c-.4-.4-.92-.59-1.43-.59-.52 0-1.04.2-1.43.59L10.3 9.45l-7.72 7.72c-.78.78-.78 2.05 0 2.83L4 21.41c.39.39.9.59 1.41.59.51 0 1.02-.2 1.41-.59l7.78-7.78 2.81-2.81c.8-.78.8-2.07 0-2.86zM5.41 20L4 18.59l7.72-7.72 1.47 1.35L5.41 20z\"/>\n",
              "  </svg>\n",
              "      </button>\n",
              "      \n",
              "  <style>\n",
              "    .colab-df-container {\n",
              "      display:flex;\n",
              "      flex-wrap:wrap;\n",
              "      gap: 12px;\n",
              "    }\n",
              "\n",
              "    .colab-df-convert {\n",
              "      background-color: #E8F0FE;\n",
              "      border: none;\n",
              "      border-radius: 50%;\n",
              "      cursor: pointer;\n",
              "      display: none;\n",
              "      fill: #1967D2;\n",
              "      height: 32px;\n",
              "      padding: 0 0 0 0;\n",
              "      width: 32px;\n",
              "    }\n",
              "\n",
              "    .colab-df-convert:hover {\n",
              "      background-color: #E2EBFA;\n",
              "      box-shadow: 0px 1px 2px rgba(60, 64, 67, 0.3), 0px 1px 3px 1px rgba(60, 64, 67, 0.15);\n",
              "      fill: #174EA6;\n",
              "    }\n",
              "\n",
              "    [theme=dark] .colab-df-convert {\n",
              "      background-color: #3B4455;\n",
              "      fill: #D2E3FC;\n",
              "    }\n",
              "\n",
              "    [theme=dark] .colab-df-convert:hover {\n",
              "      background-color: #434B5C;\n",
              "      box-shadow: 0px 1px 3px 1px rgba(0, 0, 0, 0.15);\n",
              "      filter: drop-shadow(0px 1px 2px rgba(0, 0, 0, 0.3));\n",
              "      fill: #FFFFFF;\n",
              "    }\n",
              "  </style>\n",
              "\n",
              "      <script>\n",
              "        const buttonEl =\n",
              "          document.querySelector('#df-21f99657-6a40-4960-9b38-489ad61ee7b9 button.colab-df-convert');\n",
              "        buttonEl.style.display =\n",
              "          google.colab.kernel.accessAllowed ? 'block' : 'none';\n",
              "\n",
              "        async function convertToInteractive(key) {\n",
              "          const element = document.querySelector('#df-21f99657-6a40-4960-9b38-489ad61ee7b9');\n",
              "          const dataTable =\n",
              "            await google.colab.kernel.invokeFunction('convertToInteractive',\n",
              "                                                     [key], {});\n",
              "          if (!dataTable) return;\n",
              "\n",
              "          const docLinkHtml = 'Like what you see? Visit the ' +\n",
              "            '<a target=\"_blank\" href=https://colab.research.google.com/notebooks/data_table.ipynb>data table notebook</a>'\n",
              "            + ' to learn more about interactive tables.';\n",
              "          element.innerHTML = '';\n",
              "          dataTable['output_type'] = 'display_data';\n",
              "          await google.colab.output.renderOutput(dataTable, element);\n",
              "          const docLink = document.createElement('div');\n",
              "          docLink.innerHTML = docLinkHtml;\n",
              "          element.appendChild(docLink);\n",
              "        }\n",
              "      </script>\n",
              "    </div>\n",
              "  </div>\n",
              "  "
            ]
          },
          "metadata": {},
          "execution_count": 8
        }
      ],
      "source": [
        "nans =  df.isna().sum().sort_values(ascending = False)\n",
        "nans_pct = 100*nans/df.shape[0]\n",
        "\n",
        "missing_values = pd.concat([nans, nans_pct], axis = 1).rename({0 : 'NumOfNaN', 1 : 'PctOfNaN'}, axis = 'columns')\n",
        "missing_values"
      ]
    },
    {
      "cell_type": "code",
      "execution_count": null,
      "id": "feb0bc29",
      "metadata": {
        "colab": {
          "base_uri": "https://localhost:8080/"
        },
        "id": "feb0bc29",
        "outputId": "0e29bcb2-6874-4369-8217-80a00ca92e4f"
      },
      "outputs": [
        {
          "output_type": "execute_result",
          "data": {
            "text/plain": [
              "Pregnancies                   0\n",
              "Glucose                       5\n",
              "BloodPressure                35\n",
              "SkinThickness               227\n",
              "Insulin                     374\n",
              "BMI                          11\n",
              "DiabetesPedigreeFunction      0\n",
              "Age                           0\n",
              "Outcome                       0\n",
              "dtype: int64"
            ]
          },
          "metadata": {},
          "execution_count": 9
        }
      ],
      "source": [
        "#check missing value\n",
        "df.isna().sum()"
      ]
    },
    {
      "cell_type": "markdown",
      "source": [
        "\n",
        "\n",
        "```\n",
        "Handling missing value dengan impute mean\n",
        "```\n",
        "\n"
      ],
      "metadata": {
        "id": "Iu4Yh3sKLGHX"
      },
      "id": "Iu4Yh3sKLGHX"
    },
    {
      "cell_type": "code",
      "source": [
        "from sklearn.impute import SimpleImputer\n",
        "imputer = SimpleImputer(strategy='mean')\n",
        "imputer.fit(df)\n",
        "dfa=imputer.transform(df)\n",
        "print(dfa.shape)"
      ],
      "metadata": {
        "colab": {
          "base_uri": "https://localhost:8080/"
        },
        "id": "7ItPYglBpVMi",
        "outputId": "7aa06c8d-5c6c-4064-871c-57ec3dc959ec"
      },
      "id": "7ItPYglBpVMi",
      "execution_count": null,
      "outputs": [
        {
          "output_type": "stream",
          "name": "stdout",
          "text": [
            "(768, 9)\n"
          ]
        }
      ]
    },
    {
      "cell_type": "code",
      "source": [
        "dfa = pd.DataFrame(dfa, columns = df.columns)\n",
        "dfa.head()"
      ],
      "metadata": {
        "colab": {
          "base_uri": "https://localhost:8080/",
          "height": 206
        },
        "id": "DZ7ul3ESp7bB",
        "outputId": "39f0bed6-342d-4218-8c86-80e502cb80d2"
      },
      "id": "DZ7ul3ESp7bB",
      "execution_count": null,
      "outputs": [
        {
          "output_type": "execute_result",
          "data": {
            "text/plain": [
              "   Pregnancies  Glucose  BloodPressure  SkinThickness     Insulin   BMI  \\\n",
              "0          6.0    148.0           72.0       35.00000  155.548223  33.6   \n",
              "1          1.0     85.0           66.0       29.00000  155.548223  26.6   \n",
              "2          8.0    183.0           64.0       29.15342  155.548223  23.3   \n",
              "3          1.0     89.0           66.0       23.00000   94.000000  28.1   \n",
              "4          0.0    137.0           40.0       35.00000  168.000000  43.1   \n",
              "\n",
              "   DiabetesPedigreeFunction   Age  Outcome  \n",
              "0                     0.627  50.0      1.0  \n",
              "1                     0.351  31.0      0.0  \n",
              "2                     0.672  32.0      1.0  \n",
              "3                     0.167  21.0      0.0  \n",
              "4                     2.288  33.0      1.0  "
            ],
            "text/html": [
              "\n",
              "  <div id=\"df-b4b8c1ce-753a-4041-882e-892276c920c6\">\n",
              "    <div class=\"colab-df-container\">\n",
              "      <div>\n",
              "<style scoped>\n",
              "    .dataframe tbody tr th:only-of-type {\n",
              "        vertical-align: middle;\n",
              "    }\n",
              "\n",
              "    .dataframe tbody tr th {\n",
              "        vertical-align: top;\n",
              "    }\n",
              "\n",
              "    .dataframe thead th {\n",
              "        text-align: right;\n",
              "    }\n",
              "</style>\n",
              "<table border=\"1\" class=\"dataframe\">\n",
              "  <thead>\n",
              "    <tr style=\"text-align: right;\">\n",
              "      <th></th>\n",
              "      <th>Pregnancies</th>\n",
              "      <th>Glucose</th>\n",
              "      <th>BloodPressure</th>\n",
              "      <th>SkinThickness</th>\n",
              "      <th>Insulin</th>\n",
              "      <th>BMI</th>\n",
              "      <th>DiabetesPedigreeFunction</th>\n",
              "      <th>Age</th>\n",
              "      <th>Outcome</th>\n",
              "    </tr>\n",
              "  </thead>\n",
              "  <tbody>\n",
              "    <tr>\n",
              "      <th>0</th>\n",
              "      <td>6.0</td>\n",
              "      <td>148.0</td>\n",
              "      <td>72.0</td>\n",
              "      <td>35.00000</td>\n",
              "      <td>155.548223</td>\n",
              "      <td>33.6</td>\n",
              "      <td>0.627</td>\n",
              "      <td>50.0</td>\n",
              "      <td>1.0</td>\n",
              "    </tr>\n",
              "    <tr>\n",
              "      <th>1</th>\n",
              "      <td>1.0</td>\n",
              "      <td>85.0</td>\n",
              "      <td>66.0</td>\n",
              "      <td>29.00000</td>\n",
              "      <td>155.548223</td>\n",
              "      <td>26.6</td>\n",
              "      <td>0.351</td>\n",
              "      <td>31.0</td>\n",
              "      <td>0.0</td>\n",
              "    </tr>\n",
              "    <tr>\n",
              "      <th>2</th>\n",
              "      <td>8.0</td>\n",
              "      <td>183.0</td>\n",
              "      <td>64.0</td>\n",
              "      <td>29.15342</td>\n",
              "      <td>155.548223</td>\n",
              "      <td>23.3</td>\n",
              "      <td>0.672</td>\n",
              "      <td>32.0</td>\n",
              "      <td>1.0</td>\n",
              "    </tr>\n",
              "    <tr>\n",
              "      <th>3</th>\n",
              "      <td>1.0</td>\n",
              "      <td>89.0</td>\n",
              "      <td>66.0</td>\n",
              "      <td>23.00000</td>\n",
              "      <td>94.000000</td>\n",
              "      <td>28.1</td>\n",
              "      <td>0.167</td>\n",
              "      <td>21.0</td>\n",
              "      <td>0.0</td>\n",
              "    </tr>\n",
              "    <tr>\n",
              "      <th>4</th>\n",
              "      <td>0.0</td>\n",
              "      <td>137.0</td>\n",
              "      <td>40.0</td>\n",
              "      <td>35.00000</td>\n",
              "      <td>168.000000</td>\n",
              "      <td>43.1</td>\n",
              "      <td>2.288</td>\n",
              "      <td>33.0</td>\n",
              "      <td>1.0</td>\n",
              "    </tr>\n",
              "  </tbody>\n",
              "</table>\n",
              "</div>\n",
              "      <button class=\"colab-df-convert\" onclick=\"convertToInteractive('df-b4b8c1ce-753a-4041-882e-892276c920c6')\"\n",
              "              title=\"Convert this dataframe to an interactive table.\"\n",
              "              style=\"display:none;\">\n",
              "        \n",
              "  <svg xmlns=\"http://www.w3.org/2000/svg\" height=\"24px\"viewBox=\"0 0 24 24\"\n",
              "       width=\"24px\">\n",
              "    <path d=\"M0 0h24v24H0V0z\" fill=\"none\"/>\n",
              "    <path d=\"M18.56 5.44l.94 2.06.94-2.06 2.06-.94-2.06-.94-.94-2.06-.94 2.06-2.06.94zm-11 1L8.5 8.5l.94-2.06 2.06-.94-2.06-.94L8.5 2.5l-.94 2.06-2.06.94zm10 10l.94 2.06.94-2.06 2.06-.94-2.06-.94-.94-2.06-.94 2.06-2.06.94z\"/><path d=\"M17.41 7.96l-1.37-1.37c-.4-.4-.92-.59-1.43-.59-.52 0-1.04.2-1.43.59L10.3 9.45l-7.72 7.72c-.78.78-.78 2.05 0 2.83L4 21.41c.39.39.9.59 1.41.59.51 0 1.02-.2 1.41-.59l7.78-7.78 2.81-2.81c.8-.78.8-2.07 0-2.86zM5.41 20L4 18.59l7.72-7.72 1.47 1.35L5.41 20z\"/>\n",
              "  </svg>\n",
              "      </button>\n",
              "      \n",
              "  <style>\n",
              "    .colab-df-container {\n",
              "      display:flex;\n",
              "      flex-wrap:wrap;\n",
              "      gap: 12px;\n",
              "    }\n",
              "\n",
              "    .colab-df-convert {\n",
              "      background-color: #E8F0FE;\n",
              "      border: none;\n",
              "      border-radius: 50%;\n",
              "      cursor: pointer;\n",
              "      display: none;\n",
              "      fill: #1967D2;\n",
              "      height: 32px;\n",
              "      padding: 0 0 0 0;\n",
              "      width: 32px;\n",
              "    }\n",
              "\n",
              "    .colab-df-convert:hover {\n",
              "      background-color: #E2EBFA;\n",
              "      box-shadow: 0px 1px 2px rgba(60, 64, 67, 0.3), 0px 1px 3px 1px rgba(60, 64, 67, 0.15);\n",
              "      fill: #174EA6;\n",
              "    }\n",
              "\n",
              "    [theme=dark] .colab-df-convert {\n",
              "      background-color: #3B4455;\n",
              "      fill: #D2E3FC;\n",
              "    }\n",
              "\n",
              "    [theme=dark] .colab-df-convert:hover {\n",
              "      background-color: #434B5C;\n",
              "      box-shadow: 0px 1px 3px 1px rgba(0, 0, 0, 0.15);\n",
              "      filter: drop-shadow(0px 1px 2px rgba(0, 0, 0, 0.3));\n",
              "      fill: #FFFFFF;\n",
              "    }\n",
              "  </style>\n",
              "\n",
              "      <script>\n",
              "        const buttonEl =\n",
              "          document.querySelector('#df-b4b8c1ce-753a-4041-882e-892276c920c6 button.colab-df-convert');\n",
              "        buttonEl.style.display =\n",
              "          google.colab.kernel.accessAllowed ? 'block' : 'none';\n",
              "\n",
              "        async function convertToInteractive(key) {\n",
              "          const element = document.querySelector('#df-b4b8c1ce-753a-4041-882e-892276c920c6');\n",
              "          const dataTable =\n",
              "            await google.colab.kernel.invokeFunction('convertToInteractive',\n",
              "                                                     [key], {});\n",
              "          if (!dataTable) return;\n",
              "\n",
              "          const docLinkHtml = 'Like what you see? Visit the ' +\n",
              "            '<a target=\"_blank\" href=https://colab.research.google.com/notebooks/data_table.ipynb>data table notebook</a>'\n",
              "            + ' to learn more about interactive tables.';\n",
              "          element.innerHTML = '';\n",
              "          dataTable['output_type'] = 'display_data';\n",
              "          await google.colab.output.renderOutput(dataTable, element);\n",
              "          const docLink = document.createElement('div');\n",
              "          docLink.innerHTML = docLinkHtml;\n",
              "          element.appendChild(docLink);\n",
              "        }\n",
              "      </script>\n",
              "    </div>\n",
              "  </div>\n",
              "  "
            ]
          },
          "metadata": {},
          "execution_count": 11
        }
      ]
    },
    {
      "cell_type": "markdown",
      "source": [
        "\n",
        "\n",
        "```\n",
        "cek missing value sudah tertangani\n",
        "```\n",
        "\n"
      ],
      "metadata": {
        "id": "RjV2QdhELWZU"
      },
      "id": "RjV2QdhELWZU"
    },
    {
      "cell_type": "code",
      "execution_count": null,
      "id": "ce6da732",
      "metadata": {
        "colab": {
          "base_uri": "https://localhost:8080/"
        },
        "id": "ce6da732",
        "outputId": "08b42284-a06a-4512-93df-41200f496998"
      },
      "outputs": [
        {
          "output_type": "execute_result",
          "data": {
            "text/plain": [
              "Pregnancies                 0\n",
              "Glucose                     0\n",
              "BloodPressure               0\n",
              "SkinThickness               0\n",
              "Insulin                     0\n",
              "BMI                         0\n",
              "DiabetesPedigreeFunction    0\n",
              "Age                         0\n",
              "Outcome                     0\n",
              "dtype: int64"
            ]
          },
          "metadata": {},
          "execution_count": 12
        }
      ],
      "source": [
        "dfa.isna().sum()"
      ]
    },
    {
      "cell_type": "markdown",
      "source": [
        "\n",
        "\n",
        "```\n",
        "cek outlier\n",
        "```\n",
        "\n"
      ],
      "metadata": {
        "id": "MKs6s0zCLPg9"
      },
      "id": "MKs6s0zCLPg9"
    },
    {
      "cell_type": "code",
      "execution_count": null,
      "id": "c85205ed",
      "metadata": {
        "colab": {
          "base_uri": "https://localhost:8080/",
          "height": 1000
        },
        "id": "c85205ed",
        "outputId": "b6a6c456-e191-4d92-b4a5-3f9a33b505f2"
      },
      "outputs": [
        {
          "output_type": "stream",
          "name": "stdout",
          "text": [
            "\n",
            "Persebaran data sebelum ditangani Outlier: \n",
            "       Pregnancies     Glucose  BloodPressure  SkinThickness     Insulin  \\\n",
            "count   768.000000  768.000000     768.000000     768.000000  768.000000   \n",
            "mean      3.845052  121.686763      72.405184      29.153420  155.548223   \n",
            "std       3.369578   30.435949      12.096346       8.790942   85.021108   \n",
            "min       0.000000   44.000000      24.000000       7.000000   14.000000   \n",
            "25%       1.000000   99.750000      64.000000      25.000000  121.500000   \n",
            "50%       3.000000  117.000000      72.202592      29.153420  155.548223   \n",
            "75%       6.000000  140.250000      80.000000      32.000000  155.548223   \n",
            "max      17.000000  199.000000     122.000000      99.000000  846.000000   \n",
            "\n",
            "              BMI  DiabetesPedigreeFunction         Age  \n",
            "count  768.000000                768.000000  768.000000  \n",
            "mean    32.457464                  0.471876   33.240885  \n",
            "std      6.875151                  0.331329   11.760232  \n",
            "min     18.200000                  0.078000   21.000000  \n",
            "25%     27.500000                  0.243750   24.000000  \n",
            "50%     32.400000                  0.372500   29.000000  \n",
            "75%     36.600000                  0.626250   41.000000  \n",
            "max     67.100000                  2.420000   81.000000  \n"
          ]
        },
        {
          "output_type": "display_data",
          "data": {
            "text/plain": [
              "<Figure size 432x288 with 1 Axes>"
            ],
            "image/png": "[encoded data removed]"
          },
          "metadata": {
            "needs_background": "light"
          }
        },
        {
          "output_type": "display_data",
          "data": {
            "text/plain": [
              "<Figure size 432x288 with 1 Axes>"
            ],
            "image/png": "[encoded data removed]"
          },
          "metadata": {
            "needs_background": "light"
          }
        },
        {
          "output_type": "display_data",
          "data": {
            "text/plain": [
              "<Figure size 432x288 with 1 Axes>"
            ],
            "image/png": "[encoded data removed]"
          },
          "metadata": {
            "needs_background": "light"
          }
        },
        {
          "output_type": "display_data",
          "data": {
            "text/plain": [
              "<Figure size 432x288 with 1 Axes>"
            ],
            "image/png": "[encoded data removed]"
          },
          "metadata": {
            "needs_background": "light"
          }
        },
        {
          "output_type": "display_data",
          "data": {
            "text/plain": [
              "<Figure size 432x288 with 1 Axes>"
            ],
            "image/png": "[encoded data removed]"
          },
          "metadata": {
            "needs_background": "light"
          }
        },
        {
          "output_type": "display_data",
          "data": {
            "text/plain": [
              "<Figure size 432x288 with 1 Axes>"
            ],
            "image/png": "[encoded data removed]"
          },
          "metadata": {
            "needs_background": "light"
          }
        },
        {
          "output_type": "display_data",
          "data": {
            "text/plain": [
              "<Figure size 432x288 with 1 Axes>"
            ],
            "image/png": "[encoded data removed]"
          },
          "metadata": {
            "needs_background": "light"
          }
        },
        {
          "output_type": "display_data",
          "data": {
            "text/plain": [
              "<Figure size 432x288 with 1 Axes>"
            ],
            "image/png": "[encoded data removed]"
          },
          "metadata": {
            "needs_background": "light"
          }
        }
      ],
      "source": [
        "print('\\nPersebaran data sebelum ditangani Outlier: ')\n",
        "print(dfa[['Pregnancies','Glucose','BloodPressure','SkinThickness', 'Insulin','BMI','DiabetesPedigreeFunction', 'Age']].describe())\n",
        "# Creating Box Plot\n",
        "import matplotlib.pyplot as plt\n",
        "import seaborn as sns\n",
        "# Masukkan variable\n",
        "plt.figure() # untuk membuat figure baru\n",
        "sns.boxplot(x=dfa['Pregnancies'])\n",
        "plt.show()\n",
        "plt.figure() # untuk membuat figure baru\n",
        "sns.boxplot(x=dfa['Glucose'])\n",
        "plt.show()\n",
        "plt.figure() # untuk membuat figure baru\n",
        "sns.boxplot(x=dfa['BloodPressure'])\n",
        "plt.show()\n",
        "plt.figure() # untuk membuat figure baru\n",
        "sns.boxplot(x=dfa['SkinThickness'])\n",
        "plt.show()\n",
        "plt.figure() # untuk membuat figure baru\n",
        "sns.boxplot(x=dfa['Insulin'])\n",
        "plt.show()\n",
        "plt.figure() # untuk membuat figure baru\n",
        "sns.boxplot(x=dfa['BMI'])\n",
        "plt.show()\n",
        "plt.figure() # untuk membuat figure baru\n",
        "sns.boxplot(x=dfa['DiabetesPedigreeFunction'])\n",
        "plt.show()\n",
        "plt.figure() # untuk membuat figure baru\n",
        "sns.boxplot(x=dfa['Age'])\n",
        "plt.show()"
      ]
    },
    {
      "cell_type": "markdown",
      "source": [
        "\n",
        "\n",
        "```\n",
        "Handling Outlier dengan jangankuan interquartil\n",
        "```\n",
        "\n"
      ],
      "metadata": {
        "id": "viBNwGJ7LkzY"
      },
      "id": "viBNwGJ7LkzY"
    },
    {
      "cell_type": "code",
      "execution_count": null,
      "id": "2a552027",
      "metadata": {
        "colab": {
          "base_uri": "https://localhost:8080/"
        },
        "id": "2a552027",
        "outputId": "7a2be87a-59eb-4a26-eca8-df2e19105b0b"
      },
      "outputs": [
        {
          "output_type": "stream",
          "name": "stdout",
          "text": [
            "Nilai Maximum dari masing-masing Variable adalah: \n",
            "Pregnancies                  13.500000\n",
            "Glucose                     201.000000\n",
            "BloodPressure               104.000000\n",
            "SkinThickness                42.500000\n",
            "Insulin                     206.620558\n",
            "BMI                          50.250000\n",
            "DiabetesPedigreeFunction      1.200000\n",
            "Age                          66.500000\n",
            "dtype: float64\n",
            "\n",
            "Nilai Minimum dari masing-masing Variable adalah: \n",
            "Pregnancies                 -6.500000\n",
            "Glucose                     39.000000\n",
            "BloodPressure               40.000000\n",
            "SkinThickness               14.500000\n",
            "Insulin                     70.427665\n",
            "BMI                         13.850000\n",
            "DiabetesPedigreeFunction    -0.330000\n",
            "Age                         -1.500000\n",
            "dtype: float64\n",
            "\n",
            "Persebaran data setelah ditangani Outlier: \n",
            "       Pregnancies     Glucose  BloodPressure  SkinThickness     Insulin  \\\n",
            "count   768.000000  768.000000     768.000000     768.000000  768.000000   \n",
            "mean      3.837240  121.686763      72.376538      28.911883  143.937487   \n",
            "std       3.344157   30.435949      11.696836       7.443497   39.496793   \n",
            "min       0.000000   44.000000      40.000000      14.500000   70.427665   \n",
            "25%       1.000000   99.750000      64.000000      25.000000  121.500000   \n",
            "50%       3.000000  117.000000      72.202592      29.153420  155.548223   \n",
            "75%       6.000000  140.250000      80.000000      32.000000  155.548223   \n",
            "max      13.500000  199.000000     104.000000      42.500000  206.620558   \n",
            "\n",
            "              BMI  DiabetesPedigreeFunction         Age  \n",
            "count  768.000000                768.000000  768.000000  \n",
            "mean    32.395615                  0.458914   33.199870  \n",
            "std      6.667466                  0.285596   11.628404  \n",
            "min     18.200000                  0.078000   21.000000  \n",
            "25%     27.500000                  0.243750   24.000000  \n",
            "50%     32.400000                  0.372500   29.000000  \n",
            "75%     36.600000                  0.626250   41.000000  \n",
            "max     50.250000                  1.200000   66.500000  \n"
          ]
        },
        {
          "output_type": "stream",
          "name": "stderr",
          "text": [
            "<ipython-input-14-a51e755831d7>:12: FutureWarning: Automatic reindexing on DataFrame vs Series comparisons is deprecated and will raise ValueError in a future version. Do `left, right = left.align(right, axis=1, copy=False)` before e.g. `left == right`\n",
            "  more_than = (dfa > maximum)\n",
            "<ipython-input-14-a51e755831d7>:13: FutureWarning: Automatic reindexing on DataFrame vs Series comparisons is deprecated and will raise ValueError in a future version. Do `left, right = left.align(right, axis=1, copy=False)` before e.g. `left == right`\n",
            "  lower_than = (dfa < minimum)\n"
          ]
        }
      ],
      "source": [
        "#handling outlier\n",
        "# Handling with IQR\n",
        "Q1 = (dfa[['Pregnancies','Glucose','BloodPressure','SkinThickness', 'Insulin','BMI','DiabetesPedigreeFunction', 'Age']]).quantile(0.25)\n",
        "Q3 = (dfa[['Pregnancies','Glucose','BloodPressure','SkinThickness', 'Insulin','BMI','DiabetesPedigreeFunction', 'Age']]).quantile(0.75)\n",
        "IQR = Q3 - Q1\n",
        "maximum = Q3 + (1.5*IQR)\n",
        "print('Nilai Maximum dari masing-masing Variable adalah: ')\n",
        "print(maximum)\n",
        "minimum = Q1 - (1.5*IQR)\n",
        "print('\\nNilai Minimum dari masing-masing Variable adalah: ')\n",
        "print(minimum)\n",
        "more_than = (dfa > maximum)\n",
        "lower_than = (dfa < minimum)\n",
        "dfa = dfa.mask(more_than, maximum, axis=1)\n",
        "dfa = dfa.mask(lower_than, minimum, axis=1)\n",
        "print('\\nPersebaran data setelah ditangani Outlier: ')\n",
        "print(dfa[['Pregnancies','Glucose','BloodPressure','SkinThickness', 'Insulin','BMI','DiabetesPedigreeFunction', 'Age']].describe())"
      ]
    },
    {
      "cell_type": "markdown",
      "source": [
        "\n",
        "\n",
        "```\n",
        "cek imbalance data target\n",
        "```\n",
        "\n"
      ],
      "metadata": {
        "id": "GPqZPj_cL9Mt"
      },
      "id": "GPqZPj_cL9Mt"
    },
    {
      "cell_type": "code",
      "execution_count": null,
      "id": "fcbb64a7",
      "metadata": {
        "colab": {
          "base_uri": "https://localhost:8080/"
        },
        "id": "fcbb64a7",
        "outputId": "3def0338-602e-4d85-9f09-959b5a15836f"
      },
      "outputs": [
        {
          "output_type": "execute_result",
          "data": {
            "text/plain": [
              "0.0    500\n",
              "1.0    268\n",
              "Name: Outcome, dtype: int64"
            ]
          },
          "metadata": {},
          "execution_count": 15
        }
      ],
      "source": [
        "dfa['Outcome'].value_counts()"
      ]
    },
    {
      "cell_type": "code",
      "execution_count": null,
      "id": "9d1e88f4",
      "metadata": {
        "colab": {
          "base_uri": "https://localhost:8080/",
          "height": 297
        },
        "id": "9d1e88f4",
        "outputId": "b1553fb4-cad3-4e77-c20f-a13ceebe4de9"
      },
      "outputs": [
        {
          "output_type": "execute_result",
          "data": {
            "text/plain": [
              "<Axes: xlabel='Outcome', ylabel='count'>"
            ]
          },
          "metadata": {},
          "execution_count": 16
        },
        {
          "output_type": "display_data",
          "data": {
            "text/plain": [
              "<Figure size 432x288 with 1 Axes>"
            ],
            "image/png": "[encoded data removed]"
          },
          "metadata": {
            "needs_background": "light"
          }
        }
      ],
      "source": [
        "import seaborn as sns\n",
        "sns.countplot(x='Outcome',data=dfa)"
      ]
    },
    {
      "cell_type": "code",
      "execution_count": null,
      "id": "669d315a",
      "metadata": {
        "colab": {
          "base_uri": "https://localhost:8080/"
        },
        "id": "669d315a",
        "outputId": "14f49990-b177-46ea-9012-c5c7ac15ffcb"
      },
      "outputs": [
        {
          "output_type": "stream",
          "name": "stdout",
          "text": [
            "Most Positive Correlations:\n",
            " DiabetesPedigreeFunction    0.184969\n",
            "Pregnancies                 0.220392\n",
            "SkinThickness               0.220572\n",
            "Age                         0.242702\n",
            "Insulin                     0.266135\n",
            "BMI                         0.312693\n",
            "Glucose                     0.492928\n",
            "Outcome                     1.000000\n",
            "Name: Outcome, dtype: float64\n",
            "\n",
            "Most Negative Correlations:\n",
            " BloodPressure               0.169333\n",
            "DiabetesPedigreeFunction    0.184969\n",
            "Pregnancies                 0.220392\n",
            "SkinThickness               0.220572\n",
            "Age                         0.242702\n",
            "Insulin                     0.266135\n",
            "BMI                         0.312693\n",
            "Glucose                     0.492928\n",
            "Name: Outcome, dtype: float64\n"
          ]
        }
      ],
      "source": [
        "# Find correlations with the target and sort\n",
        "correlations = dfa.corr()['Outcome'].sort_values()\n",
        "\n",
        "# Display correlations\n",
        "print('Most Positive Correlations:\\n', correlations.tail(8))\n",
        "print('\\nMost Negative Correlations:\\n', correlations.head(8))"
      ]
    },
    {
      "cell_type": "markdown",
      "source": [
        "\n",
        "\n",
        "```\n",
        "Handling imbalance dengan resample --> oversampling\n",
        "```\n",
        "\n"
      ],
      "metadata": {
        "id": "YBis39K3MKbK"
      },
      "id": "YBis39K3MKbK"
    },
    {
      "cell_type": "code",
      "execution_count": null,
      "id": "a18360eb",
      "metadata": {
        "id": "a18360eb"
      },
      "outputs": [],
      "source": [
        "#handling imbalance\n",
        "from sklearn.utils import resample\n",
        "\n",
        "df_outcome = dfa['Outcome']\n",
        "df_majority = dfa[(df_outcome == 0)]\n",
        "df_minority = dfa[(df_outcome == 1)]\n",
        "\n",
        "#df_majority_undersampled = resample(df_majority,\n",
        " #                                   replace = True,\n",
        "  #                                  n_samples = 268,\n",
        "   #                                 random_state = 1)\n",
        "#df_resampled = pd.concat([df_majority_undersampled, df_minority])\n",
        "# upsample minority class\n",
        "df_minority_upsampled = resample(df_minority,\n",
        "                                replace = True,\n",
        "                                n_samples = 500,\n",
        "                                random_state = 1)\n",
        "df_upsampled = pd.concat([df_minority_upsampled, df_majority])"
      ]
    },
    {
      "cell_type": "code",
      "execution_count": null,
      "id": "1e601e7b",
      "metadata": {
        "colab": {
          "base_uri": "https://localhost:8080/",
          "height": 295
        },
        "id": "1e601e7b",
        "outputId": "d3b38b77-849d-4cad-8c07-f63637f4d321"
      },
      "outputs": [
        {
          "output_type": "display_data",
          "data": {
            "text/plain": [
              "<Figure size 432x288 with 1 Axes>"
            ],
            "image/png": "[encoded data removed]"
          },
          "metadata": {
            "needs_background": "light"
          }
        }
      ],
      "source": [
        "import matplotlib.pyplot as plt\n",
        "sns.countplot(x='Outcome', data=df_upsampled)\n",
        "plt.title('Diagram Label Proporsion (Oversampling)')\n",
        "plt.show()"
      ]
    },
    {
      "cell_type": "code",
      "execution_count": null,
      "id": "ec0bd92d",
      "metadata": {
        "colab": {
          "base_uri": "https://localhost:8080/",
          "height": 206
        },
        "id": "ec0bd92d",
        "outputId": "de97c4ed-b60a-4fca-a445-f277c52e05d1"
      },
      "outputs": [
        {
          "output_type": "execute_result",
          "data": {
            "text/plain": [
              "     Pregnancies  Glucose  BloodPressure  SkinThickness     Insulin   BMI  \\\n",
              "100          1.0    163.0           72.0       29.15342  155.548223  39.0   \n",
              "683          4.0    125.0           80.0       29.15342  155.548223  32.3   \n",
              "197          3.0    107.0           62.0       14.50000   70.427665  22.9   \n",
              "740         11.0    120.0           80.0       37.00000  150.000000  42.3   \n",
              "588          3.0    176.0           86.0       27.00000  156.000000  33.3   \n",
              "\n",
              "     DiabetesPedigreeFunction   Age  Outcome  \n",
              "100                     1.200  33.0      1.0  \n",
              "683                     0.536  27.0      1.0  \n",
              "197                     0.678  23.0      1.0  \n",
              "740                     0.785  48.0      1.0  \n",
              "588                     1.154  52.0      1.0  "
            ],
            "text/html": [
              "\n",
              "  <div id=\"df-c1b8cbc5-d15c-4b65-a6b7-3464ca457eec\">\n",
              "    <div class=\"colab-df-container\">\n",
              "      <div>\n",
              "<style scoped>\n",
              "    .dataframe tbody tr th:only-of-type {\n",
              "        vertical-align: middle;\n",
              "    }\n",
              "\n",
              "    .dataframe tbody tr th {\n",
              "        vertical-align: top;\n",
              "    }\n",
              "\n",
              "    .dataframe thead th {\n",
              "        text-align: right;\n",
              "    }\n",
              "</style>\n",
              "<table border=\"1\" class=\"dataframe\">\n",
              "  <thead>\n",
              "    <tr style=\"text-align: right;\">\n",
              "      <th></th>\n",
              "      <th>Pregnancies</th>\n",
              "      <th>Glucose</th>\n",
              "      <th>BloodPressure</th>\n",
              "      <th>SkinThickness</th>\n",
              "      <th>Insulin</th>\n",
              "      <th>BMI</th>\n",
              "      <th>DiabetesPedigreeFunction</th>\n",
              "      <th>Age</th>\n",
              "      <th>Outcome</th>\n",
              "    </tr>\n",
              "  </thead>\n",
              "  <tbody>\n",
              "    <tr>\n",
              "      <th>100</th>\n",
              "      <td>1.0</td>\n",
              "      <td>163.0</td>\n",
              "      <td>72.0</td>\n",
              "      <td>29.15342</td>\n",
              "      <td>155.548223</td>\n",
              "      <td>39.0</td>\n",
              "      <td>1.200</td>\n",
              "      <td>33.0</td>\n",
              "      <td>1.0</td>\n",
              "    </tr>\n",
              "    <tr>\n",
              "      <th>683</th>\n",
              "      <td>4.0</td>\n",
              "      <td>125.0</td>\n",
              "      <td>80.0</td>\n",
              "      <td>29.15342</td>\n",
              "      <td>155.548223</td>\n",
              "      <td>32.3</td>\n",
              "      <td>0.536</td>\n",
              "      <td>27.0</td>\n",
              "      <td>1.0</td>\n",
              "    </tr>\n",
              "    <tr>\n",
              "      <th>197</th>\n",
              "      <td>3.0</td>\n",
              "      <td>107.0</td>\n",
              "      <td>62.0</td>\n",
              "      <td>14.50000</td>\n",
              "      <td>70.427665</td>\n",
              "      <td>22.9</td>\n",
              "      <td>0.678</td>\n",
              "      <td>23.0</td>\n",
              "      <td>1.0</td>\n",
              "    </tr>\n",
              "    <tr>\n",
              "      <th>740</th>\n",
              "      <td>11.0</td>\n",
              "      <td>120.0</td>\n",
              "      <td>80.0</td>\n",
              "      <td>37.00000</td>\n",
              "      <td>150.000000</td>\n",
              "      <td>42.3</td>\n",
              "      <td>0.785</td>\n",
              "      <td>48.0</td>\n",
              "      <td>1.0</td>\n",
              "    </tr>\n",
              "    <tr>\n",
              "      <th>588</th>\n",
              "      <td>3.0</td>\n",
              "      <td>176.0</td>\n",
              "      <td>86.0</td>\n",
              "      <td>27.00000</td>\n",
              "      <td>156.000000</td>\n",
              "      <td>33.3</td>\n",
              "      <td>1.154</td>\n",
              "      <td>52.0</td>\n",
              "      <td>1.0</td>\n",
              "    </tr>\n",
              "  </tbody>\n",
              "</table>\n",
              "</div>\n",
              "      <button class=\"colab-df-convert\" onclick=\"convertToInteractive('df-c1b8cbc5-d15c-4b65-a6b7-3464ca457eec')\"\n",
              "              title=\"Convert this dataframe to an interactive table.\"\n",
              "              style=\"display:none;\">\n",
              "        \n",
              "  <svg xmlns=\"http://www.w3.org/2000/svg\" height=\"24px\"viewBox=\"0 0 24 24\"\n",
              "       width=\"24px\">\n",
              "    <path d=\"M0 0h24v24H0V0z\" fill=\"none\"/>\n",
              "    <path d=\"M18.56 5.44l.94 2.06.94-2.06 2.06-.94-2.06-.94-.94-2.06-.94 2.06-2.06.94zm-11 1L8.5 8.5l.94-2.06 2.06-.94-2.06-.94L8.5 2.5l-.94 2.06-2.06.94zm10 10l.94 2.06.94-2.06 2.06-.94-2.06-.94-.94-2.06-.94 2.06-2.06.94z\"/><path d=\"M17.41 7.96l-1.37-1.37c-.4-.4-.92-.59-1.43-.59-.52 0-1.04.2-1.43.59L10.3 9.45l-7.72 7.72c-.78.78-.78 2.05 0 2.83L4 21.41c.39.39.9.59 1.41.59.51 0 1.02-.2 1.41-.59l7.78-7.78 2.81-2.81c.8-.78.8-2.07 0-2.86zM5.41 20L4 18.59l7.72-7.72 1.47 1.35L5.41 20z\"/>\n",
              "  </svg>\n",
              "      </button>\n",
              "      \n",
              "  <style>\n",
              "    .colab-df-container {\n",
              "      display:flex;\n",
              "      flex-wrap:wrap;\n",
              "      gap: 12px;\n",
              "    }\n",
              "\n",
              "    .colab-df-convert {\n",
              "      background-color: #E8F0FE;\n",
              "      border: none;\n",
              "      border-radius: 50%;\n",
              "      cursor: pointer;\n",
              "      display: none;\n",
              "      fill: #1967D2;\n",
              "      height: 32px;\n",
              "      padding: 0 0 0 0;\n",
              "      width: 32px;\n",
              "    }\n",
              "\n",
              "    .colab-df-convert:hover {\n",
              "      background-color: #E2EBFA;\n",
              "      box-shadow: 0px 1px 2px rgba(60, 64, 67, 0.3), 0px 1px 3px 1px rgba(60, 64, 67, 0.15);\n",
              "      fill: #174EA6;\n",
              "    }\n",
              "\n",
              "    [theme=dark] .colab-df-convert {\n",
              "      background-color: #3B4455;\n",
              "      fill: #D2E3FC;\n",
              "    }\n",
              "\n",
              "    [theme=dark] .colab-df-convert:hover {\n",
              "      background-color: #434B5C;\n",
              "      box-shadow: 0px 1px 3px 1px rgba(0, 0, 0, 0.15);\n",
              "      filter: drop-shadow(0px 1px 2px rgba(0, 0, 0, 0.3));\n",
              "      fill: #FFFFFF;\n",
              "    }\n",
              "  </style>\n",
              "\n",
              "      <script>\n",
              "        const buttonEl =\n",
              "          document.querySelector('#df-c1b8cbc5-d15c-4b65-a6b7-3464ca457eec button.colab-df-convert');\n",
              "        buttonEl.style.display =\n",
              "          google.colab.kernel.accessAllowed ? 'block' : 'none';\n",
              "\n",
              "        async function convertToInteractive(key) {\n",
              "          const element = document.querySelector('#df-c1b8cbc5-d15c-4b65-a6b7-3464ca457eec');\n",
              "          const dataTable =\n",
              "            await google.colab.kernel.invokeFunction('convertToInteractive',\n",
              "                                                     [key], {});\n",
              "          if (!dataTable) return;\n",
              "\n",
              "          const docLinkHtml = 'Like what you see? Visit the ' +\n",
              "            '<a target=\"_blank\" href=https://colab.research.google.com/notebooks/data_table.ipynb>data table notebook</a>'\n",
              "            + ' to learn more about interactive tables.';\n",
              "          element.innerHTML = '';\n",
              "          dataTable['output_type'] = 'display_data';\n",
              "          await google.colab.output.renderOutput(dataTable, element);\n",
              "          const docLink = document.createElement('div');\n",
              "          docLink.innerHTML = docLinkHtml;\n",
              "          element.appendChild(docLink);\n",
              "        }\n",
              "      </script>\n",
              "    </div>\n",
              "  </div>\n",
              "  "
            ]
          },
          "metadata": {},
          "execution_count": 20
        }
      ],
      "source": [
        "df_upsampled.head()"
      ]
    },
    {
      "cell_type": "code",
      "execution_count": null,
      "id": "2c3a6f02",
      "metadata": {
        "id": "2c3a6f02"
      },
      "outputs": [],
      "source": [
        "# defining feature matrix and response vector (after resampling)\n",
        "X = df_upsampled.loc[:, df_upsampled.columns != 'Outcome']\n",
        "y = df_upsampled['Outcome']"
      ]
    },
    {
      "cell_type": "code",
      "execution_count": null,
      "id": "8704e270",
      "metadata": {
        "colab": {
          "base_uri": "https://localhost:8080/"
        },
        "id": "8704e270",
        "outputId": "ea9ce93f-482a-4685-a595-ee75da2de847"
      },
      "outputs": [
        {
          "output_type": "stream",
          "name": "stdout",
          "text": [
            "(700, 8) (300, 8) (700,) (300,)\n"
          ]
        }
      ],
      "source": [
        "# splitting X and y into training and testing sets (pake proporsi 70 30)\n",
        "from sklearn.model_selection import train_test_split\n",
        "X_train, X_test, y_train, y_test = train_test_split(X, y, test_size = 0.3, random_state = 1)\n",
        "print(X_train.shape, X_test.shape, y_train.shape, y_test.shape)"
      ]
    },
    {
      "cell_type": "markdown",
      "id": "fa543334",
      "metadata": {
        "id": "fa543334"
      },
      "source": [
        "Modeling"
      ]
    },
    {
      "cell_type": "markdown",
      "source": [
        "\n",
        "\n",
        "```\n",
        "Logistic Regression\n",
        "```\n",
        "\n"
      ],
      "metadata": {
        "id": "nTkVCrImMcgN"
      },
      "id": "nTkVCrImMcgN"
    },
    {
      "cell_type": "code",
      "execution_count": null,
      "id": "ed5008da",
      "metadata": {
        "colab": {
          "base_uri": "https://localhost:8080/"
        },
        "id": "ed5008da",
        "outputId": "997c581d-6eff-46ab-8fb1-c66fd53bd387"
      },
      "outputs": [
        {
          "output_type": "stream",
          "name": "stdout",
          "text": [
            "Model Logistic Regression: \n",
            " LogisticRegression(max_iter=2000)\n"
          ]
        }
      ],
      "source": [
        "from sklearn.linear_model import LogisticRegression\n",
        "lr = LogisticRegression(solver='lbfgs', max_iter = 2000)\n",
        "lr = lr.fit(X_train, y_train)\n",
        "print('Model Logistic Regression: \\n', lr)"
      ]
    },
    {
      "cell_type": "code",
      "execution_count": null,
      "id": "10e123fe",
      "metadata": {
        "colab": {
          "base_uri": "https://localhost:8080/"
        },
        "id": "10e123fe",
        "outputId": "eb9bd955-c707-402f-9da2-240e5d6a0d36"
      },
      "outputs": [
        {
          "output_type": "stream",
          "name": "stdout",
          "text": [
            "Accuracy: 0.7466666666666667\n"
          ]
        }
      ],
      "source": [
        "#evaluate pilihan agak simple outputnya\n",
        "from sklearn.metrics import accuracy_score\n",
        "y_pred = lr.predict(X_test)\n",
        "y_lr_proba= lr.predict_proba(X_test)\n",
        "accuracy = accuracy_score(y_test, y_pred)\n",
        "print(\"Accuracy:\", accuracy)"
      ]
    },
    {
      "cell_type": "code",
      "execution_count": null,
      "id": "a1ec0bc6",
      "metadata": {
        "colab": {
          "base_uri": "https://localhost:8080/"
        },
        "id": "a1ec0bc6",
        "outputId": "2a2fa064-84af-46ea-cdf6-8816fda05a88"
      },
      "outputs": [
        {
          "output_type": "stream",
          "name": "stdout",
          "text": [
            "Classification Report Training Model (Logistic Regression) :\n",
            "              precision    recall  f1-score   support\n",
            "\n",
            "         0.0       0.74      0.77      0.75       151\n",
            "         1.0       0.76      0.72      0.74       149\n",
            "\n",
            "    accuracy                           0.75       300\n",
            "   macro avg       0.75      0.75      0.75       300\n",
            "weighted avg       0.75      0.75      0.75       300\n",
            "\n",
            "[[116  35]\n",
            " [ 41 108]]\n"
          ]
        }
      ],
      "source": [
        "# predict\n",
        "from sklearn.metrics import confusion_matrix, classification_report\n",
        "y_test_pred = lr.predict(X_test)\n",
        "print('Classification Report Training Model (Logistic Regression) :')\n",
        "print(classification_report(y_test, y_test_pred))\n",
        "print(confusion_matrix(y_test, y_pred))"
      ]
    },
    {
      "cell_type": "code",
      "execution_count": null,
      "id": "c1dee82d",
      "metadata": {
        "colab": {
          "base_uri": "https://localhost:8080/",
          "height": 328
        },
        "id": "c1dee82d",
        "outputId": "6caab5b7-57d0-4de3-d798-64dfe7682403"
      },
      "outputs": [
        {
          "output_type": "display_data",
          "data": {
            "text/plain": [
              "<Figure size 432x288 with 2 Axes>"
            ],
            "image/png": "[encoded data removed]"
          },
          "metadata": {
            "needs_background": "light"
          }
        }
      ],
      "source": [
        "confusion_matrix_app = pd.DataFrame((confusion_matrix(y_test, y_test_pred)), ('No', 'Yes'), ('No', 'Yes'))\n",
        "\n",
        "# plot confusion matrix\n",
        "plt.figure()\n",
        "heatmap = sns.heatmap(confusion_matrix_app, annot=True, annot_kws={'size':14}, fmt='d', cmap='YlGnBu')\n",
        "heatmap.yaxis.set_ticklabels(heatmap.yaxis.get_ticklabels(), rotation=0, ha='right', fontsize=14)\n",
        "heatmap.xaxis.set_ticklabels(heatmap.xaxis.get_ticklabels(), rotation=0, ha='right', fontsize=14)\n",
        "\n",
        "plt.title('Confusion Matrix for Texting Model (Logistic Regression)\\n', fontsize=18, color='darkblue')\n",
        "plt.ylabel('True label', fontsize=14)\n",
        "plt.xlabel('Predicted label', fontsize = 14)\n",
        "plt.show()"
      ]
    },
    {
      "cell_type": "markdown",
      "source": [
        "\n",
        "\n",
        "```\n",
        "Decision Tree\n",
        "```\n",
        "\n"
      ],
      "metadata": {
        "id": "pTtjyLEaMmb3"
      },
      "id": "pTtjyLEaMmb3"
    },
    {
      "cell_type": "code",
      "execution_count": null,
      "id": "96834a34",
      "metadata": {
        "id": "96834a34"
      },
      "outputs": [],
      "source": [
        "# using decision tree\n",
        "from sklearn import tree\n",
        "dt = tree.DecisionTreeClassifier()\n",
        "dt = dt.fit(X_train, y_train)\n",
        "y_dt_test = dt.predict(X_test)\n",
        "y_dt_proba= dt.predict_proba(X_test)"
      ]
    },
    {
      "cell_type": "code",
      "execution_count": null,
      "id": "a032e5a7",
      "metadata": {
        "colab": {
          "base_uri": "https://localhost:8080/"
        },
        "id": "a032e5a7",
        "outputId": "f687eed6-bb53-44c3-f17d-642cbcc9dfdf"
      },
      "outputs": [
        {
          "output_type": "stream",
          "name": "stdout",
          "text": [
            "              precision    recall  f1-score   support\n",
            "\n",
            "         0.0       0.86      0.76      0.81       151\n",
            "         1.0       0.78      0.87      0.83       149\n",
            "\n",
            "    accuracy                           0.82       300\n",
            "   macro avg       0.82      0.82      0.82       300\n",
            "weighted avg       0.82      0.82      0.82       300\n",
            "\n",
            "[[115  36]\n",
            " [ 19 130]]\n"
          ]
        }
      ],
      "source": [
        "print(classification_report(y_test, y_dt_test))\n",
        "print(confusion_matrix(y_test, y_dt_test))"
      ]
    },
    {
      "cell_type": "code",
      "execution_count": null,
      "id": "5446bde2",
      "metadata": {
        "colab": {
          "base_uri": "https://localhost:8080/",
          "height": 328
        },
        "id": "5446bde2",
        "outputId": "6a1886ba-4c85-4f79-a4c9-13f7bd690217"
      },
      "outputs": [
        {
          "output_type": "display_data",
          "data": {
            "text/plain": [
              "<Figure size 432x288 with 2 Axes>"
            ],
            "image/png": "[encoded data removed]"
          },
          "metadata": {
            "needs_background": "light"
          }
        }
      ],
      "source": [
        "confusion_matrix_app = pd.DataFrame((confusion_matrix(y_test, y_dt_test)), ('No', 'Yes'), ('No', 'Yes'))\n",
        "\n",
        "# plot confusion matrix\n",
        "plt.figure()\n",
        "heatmap = sns.heatmap(confusion_matrix_app, annot=True, annot_kws={'size':14}, fmt='d', cmap='YlGnBu')\n",
        "heatmap.yaxis.set_ticklabels(heatmap.yaxis.get_ticklabels(), rotation=0, ha='right', fontsize=14)\n",
        "heatmap.xaxis.set_ticklabels(heatmap.xaxis.get_ticklabels(), rotation=0, ha='right', fontsize=14)\n",
        "\n",
        "plt.title('Confusion Matrix for Testing Model (Decision Tree)\\n', fontsize=18, color='darkblue')\n",
        "plt.ylabel('True label', fontsize=14)\n",
        "plt.xlabel('Predicted label', fontsize = 14)\n",
        "plt.show()"
      ]
    },
    {
      "cell_type": "markdown",
      "source": [
        "\n",
        "\n",
        "```\n",
        "Random Forest\n",
        "```\n",
        "\n"
      ],
      "metadata": {
        "id": "x3Fm59dKM2ii"
      },
      "id": "x3Fm59dKM2ii"
    },
    {
      "cell_type": "code",
      "execution_count": null,
      "id": "b7058f5a",
      "metadata": {
        "colab": {
          "base_uri": "https://localhost:8080/"
        },
        "id": "b7058f5a",
        "outputId": "ffc6c4a5-6801-459b-9f65-329cad458e63"
      },
      "outputs": [
        {
          "output_type": "stream",
          "name": "stdout",
          "text": [
            "RandomForestClassifier(max_depth=20, oob_score=True, random_state=42)\n"
          ]
        }
      ],
      "source": [
        "# random forest\n",
        "from sklearn.ensemble import RandomForestClassifier\n",
        "rf = RandomForestClassifier(random_state= 42,\n",
        "                            max_depth=20,\n",
        "                            n_estimators = 100,\n",
        "                            oob_score = True)\n",
        "rf = rf.fit(X_train, y_train)\n",
        "y_rf_test = rf.predict(X_test)\n",
        "y_rf_proba= rf.predict_proba(X_test)\n",
        "print(rf)"
      ]
    },
    {
      "cell_type": "code",
      "execution_count": null,
      "id": "10246c1d",
      "metadata": {
        "colab": {
          "base_uri": "https://localhost:8080/"
        },
        "id": "10246c1d",
        "outputId": "67ab619b-a81a-495b-d7aa-b5a673e75725"
      },
      "outputs": [
        {
          "output_type": "stream",
          "name": "stdout",
          "text": [
            "              precision    recall  f1-score   support\n",
            "\n",
            "         0.0       0.90      0.80      0.85       151\n",
            "         1.0       0.82      0.91      0.86       149\n",
            "\n",
            "    accuracy                           0.85       300\n",
            "   macro avg       0.86      0.85      0.85       300\n",
            "weighted avg       0.86      0.85      0.85       300\n",
            "\n",
            "[[121  30]\n",
            " [ 14 135]]\n"
          ]
        }
      ],
      "source": [
        "print(classification_report(y_test, y_rf_test))\n",
        "print(confusion_matrix(y_test, y_rf_test))"
      ]
    },
    {
      "cell_type": "code",
      "execution_count": null,
      "id": "82aa48c2",
      "metadata": {
        "colab": {
          "base_uri": "https://localhost:8080/",
          "height": 328
        },
        "id": "82aa48c2",
        "outputId": "cb37906f-691a-41cc-9449-92d76369607f"
      },
      "outputs": [
        {
          "output_type": "display_data",
          "data": {
            "text/plain": [
              "<Figure size 432x288 with 2 Axes>"
            ],
            "image/png": "[encoded data removed]"
          },
          "metadata": {
            "needs_background": "light"
          }
        }
      ],
      "source": [
        "confusion_matrix_app = pd.DataFrame((confusion_matrix(y_test, y_rf_test)), ('No', 'Yes'), ('No', 'Yes'))\n",
        "\n",
        "# plot confusion matrix\n",
        "plt.figure()\n",
        "heatmap = sns.heatmap(confusion_matrix_app, annot=True, annot_kws={'size':14}, fmt='d', cmap='YlGnBu')\n",
        "heatmap.yaxis.set_ticklabels(heatmap.yaxis.get_ticklabels(), rotation=0, ha='right', fontsize=14)\n",
        "heatmap.xaxis.set_ticklabels(heatmap.xaxis.get_ticklabels(), rotation=0, ha='right', fontsize=14)\n",
        "\n",
        "plt.title('Confusion Matrix for Testing Model (Random Forest before Tuning)\\n', fontsize=18, color='darkblue')\n",
        "plt.ylabel('True label', fontsize=14)\n",
        "plt.xlabel('Predicted label', fontsize = 14)\n",
        "plt.show()"
      ]
    },
    {
      "cell_type": "markdown",
      "id": "122b1cd2",
      "metadata": {
        "id": "122b1cd2"
      },
      "source": [
        "\n",
        "\n",
        "```\n",
        "roc curve\n",
        "```\n",
        "\n"
      ]
    },
    {
      "cell_type": "code",
      "execution_count": null,
      "id": "22afabd1",
      "metadata": {
        "id": "22afabd1",
        "colab": {
          "base_uri": "https://localhost:8080/",
          "height": 295
        },
        "outputId": "ea2d4b7b-70ec-4834-9329-2f64168d6e76"
      },
      "outputs": [
        {
          "output_type": "display_data",
          "data": {
            "text/plain": [
              "<Figure size 432x288 with 1 Axes>"
            ],
            "image/png": "[encoded data removed]"
          },
          "metadata": {
            "needs_background": "light"
          }
        }
      ],
      "source": [
        "from sklearn.metrics import accuracy_score, roc_curve, roc_auc_score\n",
        "from sklearn.ensemble import RandomForestClassifier\n",
        "import matplotlib.pyplot as plt\n",
        "\n",
        "# Get predicted probabilities for each model\n",
        "y_rf_proba = rf.predict_proba(X_test)[:, 1]\n",
        "y_dt_proba = dt.predict_proba(X_test)[:, 1]\n",
        "y_lr_proba = lr.predict_proba(X_test)[:, 1]\n",
        "\n",
        "# Compute the ROC curve and AUC score for each model\n",
        "fpr_rf, tpr_rf, thresholds_rf = roc_curve(y_test, y_rf_proba)\n",
        "roc_auc_rf = roc_auc_score(y_test, y_rf_proba)\n",
        "\n",
        "fpr_dt, tpr_dt, thresholds_dt = roc_curve(y_test, y_dt_proba)\n",
        "roc_auc_dt = roc_auc_score(y_test, y_dt_proba)\n",
        "\n",
        "fpr_lr, tpr_lr, thresholds_lr = roc_curve(y_test, y_lr_proba)\n",
        "roc_auc_lr = roc_auc_score(y_test, y_lr_proba)\n",
        "\n",
        "\n",
        "# Plot the ROC curves\n",
        "plt.plot(fpr_rf, tpr_rf, color='green', label='Random Forest (area = %0.2f)' % roc_auc_rf)\n",
        "plt.plot(fpr_dt, tpr_dt, color='red', label='Decision Tree (area = %0.2f)' % roc_auc_dt)\n",
        "plt.plot(fpr_lr, tpr_lr, color='blue', label='Logistic Regression (area = %0.2f)' % roc_auc_lr)\n",
        "plt.plot([0, 1], [0, 1], color='orange', lw=2, linestyle='--')\n",
        "plt.xlim([0.0, 1.0])\n",
        "plt.ylim([0.0, 1.05])\n",
        "plt.xlabel('False Positive Rate')\n",
        "plt.ylabel('True Positive Rate')\n",
        "plt.title('ROC Curves for Different Models')\n",
        "plt.legend(loc=\"lower right\")\n",
        "plt.show()\n"
      ]
    }
  ],
  "metadata": {
    "kernelspec": {
      "display_name": "Python 3 (ipykernel)",
      "language": "python",
      "name": "python3"
    },
    "language_info": {
      "codemirror_mode": {
        "name": "ipython",
        "version": 3
      },
      "file_extension": ".py",
      "mimetype": "text/x-python",
      "name": "python",
      "nbconvert_exporter": "python",
      "pygments_lexer": "ipython3",
      "version": "3.9.12"
    },
    "colab": {
      "provenance": [],
      "include_colab_link": true
    }
  },
  "nbformat": 4,
  "nbformat_minor": 5
}